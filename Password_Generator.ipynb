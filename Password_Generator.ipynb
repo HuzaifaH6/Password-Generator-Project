{
  "nbformat": 4,
  "nbformat_minor": 0,
  "metadata": {
    "colab": {
      "provenance": [],
      "authorship_tag": "ABX9TyNPus1th5K+pgZhJlQhs59C",
      "include_colab_link": true
    },
    "kernelspec": {
      "name": "python3",
      "display_name": "Python 3"
    },
    "language_info": {
      "name": "python"
    }
  },
  "cells": [
    {
      "cell_type": "markdown",
      "metadata": {
        "id": "view-in-github",
        "colab_type": "text"
      },
      "source": [
        "<a href=\"https://colab.research.google.com/github/HuzaifaH6/Password-Generator-Project/blob/main/Password_Generator.ipynb\" target=\"_parent\"><img src=\"https://colab.research.google.com/assets/colab-badge.svg\" alt=\"Open In Colab\"/></a>"
      ]
    },
    {
      "cell_type": "code",
      "execution_count": null,
      "metadata": {
        "collapsed": true,
        "id": "DQOLo3kSuNWb"
      },
      "outputs": [],
      "source": [
        "import random\n",
        "import string\n",
        "\n",
        "def generate_password():\n",
        "    print(\"Password Generator\\n\")\n",
        "\n",
        "    lower = string.ascii_lowercase\n",
        "    upper = string.ascii_uppercase\n",
        "    digits = string.digits\n",
        "    symbols = string.punctuation\n",
        "\n",
        "    all_chars = lower + upper + digits + symbols\n",
        "\n",
        "    try:\n",
        "        # Get user input\n",
        "        number = int(input(\"Number of passwords? \"))\n",
        "        length = int(input(\"Password length? \"))\n",
        "\n",
        "        if number <= 0 or length <= 0:\n",
        "            print(\"Please enter positive numbers for password count and length.\")\n",
        "            return\n",
        "    except ValueError:\n",
        "        print(\"Invalid input! Please enter a valid number.\")\n",
        "        return\n",
        "\n",
        "    # Generate passwords\n",
        "    for psd in range(number):\n",
        "        password = \"\"\n",
        "        for psd in range(length):\n",
        "            password += random.choice(all_chars)\n",
        "        print(\"\\nGenerated Password:\", password)\n",
        "\n",
        "# Run the password generator\n",
        "generate_password()\n",
        "\n"
      ]
    }
  ]
}